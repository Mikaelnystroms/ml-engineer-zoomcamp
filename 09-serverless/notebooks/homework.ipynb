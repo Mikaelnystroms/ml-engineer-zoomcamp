{
 "cells": [
  {
   "cell_type": "code",
   "execution_count": 1,
   "metadata": {},
   "outputs": [
    {
     "name": "stdout",
     "output_type": "stream",
     "text": [
      "Collecting tensorflow==2.17.1\n",
      "  Downloading tensorflow-2.17.1-cp310-cp310-manylinux_2_17_x86_64.manylinux2014_x86_64.whl.metadata (4.2 kB)\n",
      "Requirement already satisfied: absl-py>=1.0.0 in /home/mike/Developer/ml-engineer-zoomcamp/.venv/lib/python3.10/site-packages (from tensorflow==2.17.1) (2.1.0)\n",
      "Requirement already satisfied: astunparse>=1.6.0 in /home/mike/Developer/ml-engineer-zoomcamp/.venv/lib/python3.10/site-packages (from tensorflow==2.17.1) (1.6.3)\n",
      "Requirement already satisfied: flatbuffers>=24.3.25 in /home/mike/Developer/ml-engineer-zoomcamp/.venv/lib/python3.10/site-packages (from tensorflow==2.17.1) (24.3.25)\n",
      "Requirement already satisfied: gast!=0.5.0,!=0.5.1,!=0.5.2,>=0.2.1 in /home/mike/Developer/ml-engineer-zoomcamp/.venv/lib/python3.10/site-packages (from tensorflow==2.17.1) (0.6.0)\n",
      "Requirement already satisfied: google-pasta>=0.1.1 in /home/mike/Developer/ml-engineer-zoomcamp/.venv/lib/python3.10/site-packages (from tensorflow==2.17.1) (0.2.0)\n",
      "Requirement already satisfied: h5py>=3.10.0 in /home/mike/Developer/ml-engineer-zoomcamp/.venv/lib/python3.10/site-packages (from tensorflow==2.17.1) (3.12.1)\n",
      "Requirement already satisfied: libclang>=13.0.0 in /home/mike/Developer/ml-engineer-zoomcamp/.venv/lib/python3.10/site-packages (from tensorflow==2.17.1) (18.1.1)\n",
      "Requirement already satisfied: ml-dtypes<0.5.0,>=0.3.1 in /home/mike/Developer/ml-engineer-zoomcamp/.venv/lib/python3.10/site-packages (from tensorflow==2.17.1) (0.4.1)\n",
      "Requirement already satisfied: opt-einsum>=2.3.2 in /home/mike/Developer/ml-engineer-zoomcamp/.venv/lib/python3.10/site-packages (from tensorflow==2.17.1) (3.4.0)\n",
      "Requirement already satisfied: packaging in /home/mike/Developer/ml-engineer-zoomcamp/.venv/lib/python3.10/site-packages (from tensorflow==2.17.1) (24.1)\n",
      "Requirement already satisfied: protobuf!=4.21.0,!=4.21.1,!=4.21.2,!=4.21.3,!=4.21.4,!=4.21.5,<5.0.0dev,>=3.20.3 in /home/mike/Developer/ml-engineer-zoomcamp/.venv/lib/python3.10/site-packages (from tensorflow==2.17.1) (4.25.5)\n",
      "Requirement already satisfied: requests<3,>=2.21.0 in /home/mike/Developer/ml-engineer-zoomcamp/.venv/lib/python3.10/site-packages (from tensorflow==2.17.1) (2.32.3)\n",
      "Requirement already satisfied: setuptools in /home/mike/Developer/ml-engineer-zoomcamp/.venv/lib/python3.10/site-packages (from tensorflow==2.17.1) (75.1.0)\n",
      "Requirement already satisfied: six>=1.12.0 in /home/mike/Developer/ml-engineer-zoomcamp/.venv/lib/python3.10/site-packages (from tensorflow==2.17.1) (1.16.0)\n",
      "Requirement already satisfied: termcolor>=1.1.0 in /home/mike/Developer/ml-engineer-zoomcamp/.venv/lib/python3.10/site-packages (from tensorflow==2.17.1) (2.5.0)\n",
      "Requirement already satisfied: typing-extensions>=3.6.6 in /home/mike/Developer/ml-engineer-zoomcamp/.venv/lib/python3.10/site-packages (from tensorflow==2.17.1) (4.12.2)\n",
      "Requirement already satisfied: wrapt>=1.11.0 in /home/mike/Developer/ml-engineer-zoomcamp/.venv/lib/python3.10/site-packages (from tensorflow==2.17.1) (1.14.1)\n",
      "Requirement already satisfied: grpcio<2.0,>=1.24.3 in /home/mike/Developer/ml-engineer-zoomcamp/.venv/lib/python3.10/site-packages (from tensorflow==2.17.1) (1.68.1)\n",
      "Requirement already satisfied: tensorboard<2.18,>=2.17 in /home/mike/Developer/ml-engineer-zoomcamp/.venv/lib/python3.10/site-packages (from tensorflow==2.17.1) (2.17.1)\n",
      "Requirement already satisfied: keras>=3.2.0 in /home/mike/Developer/ml-engineer-zoomcamp/.venv/lib/python3.10/site-packages (from tensorflow==2.17.1) (3.7.0)\n",
      "Requirement already satisfied: tensorflow-io-gcs-filesystem>=0.23.1 in /home/mike/Developer/ml-engineer-zoomcamp/.venv/lib/python3.10/site-packages (from tensorflow==2.17.1) (0.37.1)\n",
      "Requirement already satisfied: numpy<2.0.0,>=1.23.5 in /home/mike/Developer/ml-engineer-zoomcamp/.venv/lib/python3.10/site-packages (from tensorflow==2.17.1) (1.26.4)\n",
      "Requirement already satisfied: wheel<1.0,>=0.23.0 in /home/mike/Developer/ml-engineer-zoomcamp/.venv/lib/python3.10/site-packages (from astunparse>=1.6.0->tensorflow==2.17.1) (0.45.1)\n",
      "Requirement already satisfied: rich in /home/mike/Developer/ml-engineer-zoomcamp/.venv/lib/python3.10/site-packages (from keras>=3.2.0->tensorflow==2.17.1) (13.9.4)\n",
      "Requirement already satisfied: namex in /home/mike/Developer/ml-engineer-zoomcamp/.venv/lib/python3.10/site-packages (from keras>=3.2.0->tensorflow==2.17.1) (0.0.8)\n",
      "Requirement already satisfied: optree in /home/mike/Developer/ml-engineer-zoomcamp/.venv/lib/python3.10/site-packages (from keras>=3.2.0->tensorflow==2.17.1) (0.13.1)\n",
      "Requirement already satisfied: charset-normalizer<4,>=2 in /home/mike/Developer/ml-engineer-zoomcamp/.venv/lib/python3.10/site-packages (from requests<3,>=2.21.0->tensorflow==2.17.1) (3.4.0)\n",
      "Requirement already satisfied: idna<4,>=2.5 in /home/mike/Developer/ml-engineer-zoomcamp/.venv/lib/python3.10/site-packages (from requests<3,>=2.21.0->tensorflow==2.17.1) (3.10)\n",
      "Requirement already satisfied: urllib3<3,>=1.21.1 in /home/mike/Developer/ml-engineer-zoomcamp/.venv/lib/python3.10/site-packages (from requests<3,>=2.21.0->tensorflow==2.17.1) (2.2.3)\n",
      "Requirement already satisfied: certifi>=2017.4.17 in /home/mike/Developer/ml-engineer-zoomcamp/.venv/lib/python3.10/site-packages (from requests<3,>=2.21.0->tensorflow==2.17.1) (2024.8.30)\n",
      "Requirement already satisfied: markdown>=2.6.8 in /home/mike/Developer/ml-engineer-zoomcamp/.venv/lib/python3.10/site-packages (from tensorboard<2.18,>=2.17->tensorflow==2.17.1) (3.7)\n",
      "Requirement already satisfied: tensorboard-data-server<0.8.0,>=0.7.0 in /home/mike/Developer/ml-engineer-zoomcamp/.venv/lib/python3.10/site-packages (from tensorboard<2.18,>=2.17->tensorflow==2.17.1) (0.7.2)\n",
      "Requirement already satisfied: werkzeug>=1.0.1 in /home/mike/Developer/ml-engineer-zoomcamp/.venv/lib/python3.10/site-packages (from tensorboard<2.18,>=2.17->tensorflow==2.17.1) (3.0.4)\n",
      "Requirement already satisfied: MarkupSafe>=2.1.1 in /home/mike/Developer/ml-engineer-zoomcamp/.venv/lib/python3.10/site-packages (from werkzeug>=1.0.1->tensorboard<2.18,>=2.17->tensorflow==2.17.1) (3.0.1)\n",
      "Requirement already satisfied: markdown-it-py>=2.2.0 in /home/mike/Developer/ml-engineer-zoomcamp/.venv/lib/python3.10/site-packages (from rich->keras>=3.2.0->tensorflow==2.17.1) (3.0.0)\n",
      "Requirement already satisfied: pygments<3.0.0,>=2.13.0 in /home/mike/Developer/ml-engineer-zoomcamp/.venv/lib/python3.10/site-packages (from rich->keras>=3.2.0->tensorflow==2.17.1) (2.18.0)\n",
      "Requirement already satisfied: mdurl~=0.1 in /home/mike/Developer/ml-engineer-zoomcamp/.venv/lib/python3.10/site-packages (from markdown-it-py>=2.2.0->rich->keras>=3.2.0->tensorflow==2.17.1) (0.1.2)\n",
      "Downloading tensorflow-2.17.1-cp310-cp310-manylinux_2_17_x86_64.manylinux2014_x86_64.whl (601.3 MB)\n",
      "\u001b[2K   \u001b[90m━━━━━━━━━━━━━━━━━━━━━━━━━━━━━━━━━━━━━━━━\u001b[0m \u001b[32m601.3/601.3 MB\u001b[0m \u001b[31m27.7 MB/s\u001b[0m eta \u001b[36m0:00:00\u001b[0m00:01\u001b[0m00:01\u001b[0m\n",
      "\u001b[?25hInstalling collected packages: tensorflow\n",
      "  Attempting uninstall: tensorflow\n",
      "    Found existing installation: tensorflow 2.14.0\n",
      "    Uninstalling tensorflow-2.14.0:\n",
      "      Successfully uninstalled tensorflow-2.14.0\n",
      "Successfully installed tensorflow-2.17.1\n",
      "\n",
      "\u001b[1m[\u001b[0m\u001b[34;49mnotice\u001b[0m\u001b[1;39;49m]\u001b[0m\u001b[39;49m A new release of pip is available: \u001b[0m\u001b[31;49m24.2\u001b[0m\u001b[39;49m -> \u001b[0m\u001b[32;49m24.3.1\u001b[0m\n",
      "\u001b[1m[\u001b[0m\u001b[34;49mnotice\u001b[0m\u001b[1;39;49m]\u001b[0m\u001b[39;49m To update, run: \u001b[0m\u001b[32;49mpip install --upgrade pip\u001b[0m\n",
      "Note: you may need to restart the kernel to use updated packages.\n"
     ]
    }
   ],
   "source": [
    "%pip install tensorflow==2.17.1"
   ]
  },
  {
   "cell_type": "code",
   "execution_count": 2,
   "metadata": {},
   "outputs": [
    {
     "name": "stderr",
     "output_type": "stream",
     "text": [
      "2024-12-13 08:09:44.686840: I external/local_xla/xla/tsl/cuda/cudart_stub.cc:32] Could not find cuda drivers on your machine, GPU will not be used.\n",
      "2024-12-13 08:09:44.736989: I external/local_xla/xla/tsl/cuda/cudart_stub.cc:32] Could not find cuda drivers on your machine, GPU will not be used.\n",
      "2024-12-13 08:09:44.780851: E external/local_xla/xla/stream_executor/cuda/cuda_fft.cc:485] Unable to register cuFFT factory: Attempting to register factory for plugin cuFFT when one has already been registered\n",
      "2024-12-13 08:09:44.810401: E external/local_xla/xla/stream_executor/cuda/cuda_dnn.cc:8454] Unable to register cuDNN factory: Attempting to register factory for plugin cuDNN when one has already been registered\n",
      "2024-12-13 08:09:44.818759: E external/local_xla/xla/stream_executor/cuda/cuda_blas.cc:1452] Unable to register cuBLAS factory: Attempting to register factory for plugin cuBLAS when one has already been registered\n",
      "2024-12-13 08:09:44.852662: I tensorflow/core/platform/cpu_feature_guard.cc:210] This TensorFlow binary is optimized to use available CPU instructions in performance-critical operations.\n",
      "To enable the following instructions: AVX2 AVX512F FMA, in other operations, rebuild TensorFlow with the appropriate compiler flags.\n",
      "2024-12-13 08:09:46.754741: W tensorflow/compiler/tf2tensorrt/utils/py_utils.cc:38] TF-TRT Warning: Could not find TensorRT\n"
     ]
    }
   ],
   "source": [
    "import tensorflow as tf\n",
    "from tensorflow import keras\n",
    "import numpy as np\n",
    "import os"
   ]
  },
  {
   "cell_type": "code",
   "execution_count": null,
   "metadata": {},
   "outputs": [],
   "source": [
    "# !wget https://github.com/alexeygrigorev/large-datasets/releases/download/hairstyle/model_2024_hairstyle.keras"
   ]
  },
  {
   "cell_type": "code",
   "execution_count": 3,
   "metadata": {},
   "outputs": [
    {
     "name": "stderr",
     "output_type": "stream",
     "text": [
      "2024-12-13 08:11:15.966283: W external/local_tsl/tsl/framework/cpu_allocator_impl.cc:83] Allocation of 80289792 exceeds 10% of free system memory.\n",
      "2024-12-13 08:11:16.114667: W external/local_tsl/tsl/framework/cpu_allocator_impl.cc:83] Allocation of 80289792 exceeds 10% of free system memory.\n",
      "2024-12-13 08:11:16.204524: W external/local_tsl/tsl/framework/cpu_allocator_impl.cc:83] Allocation of 80289792 exceeds 10% of free system memory.\n",
      "2024-12-13 08:11:16.376270: W external/local_tsl/tsl/framework/cpu_allocator_impl.cc:83] Allocation of 80289792 exceeds 10% of free system memory.\n",
      "2024-12-13 08:11:17.007866: W external/local_tsl/tsl/framework/cpu_allocator_impl.cc:83] Allocation of 80289792 exceeds 10% of free system memory.\n"
     ]
    },
    {
     "name": "stdout",
     "output_type": "stream",
     "text": [
      "INFO:tensorflow:Assets written to: /tmp/tmpkyzgflbh/assets\n"
     ]
    },
    {
     "name": "stderr",
     "output_type": "stream",
     "text": [
      "INFO:tensorflow:Assets written to: /tmp/tmpkyzgflbh/assets\n"
     ]
    },
    {
     "name": "stdout",
     "output_type": "stream",
     "text": [
      "Saved artifact at '/tmp/tmpkyzgflbh'. The following endpoints are available:\n",
      "\n",
      "* Endpoint 'serve'\n",
      "  args_0 (POSITIONAL_ONLY): TensorSpec(shape=(None, 200, 200, 3), dtype=tf.float32, name='input_layer')\n",
      "Output Type:\n",
      "  TensorSpec(shape=(None, 1), dtype=tf.float32, name=None)\n",
      "Captures:\n",
      "  140032674224736: TensorSpec(shape=(), dtype=tf.resource, name=None)\n",
      "  140032674229664: TensorSpec(shape=(), dtype=tf.resource, name=None)\n",
      "  140032647293488: TensorSpec(shape=(), dtype=tf.resource, name=None)\n",
      "  140032647294016: TensorSpec(shape=(), dtype=tf.resource, name=None)\n",
      "  140032647295072: TensorSpec(shape=(), dtype=tf.resource, name=None)\n",
      "  140032647467904: TensorSpec(shape=(), dtype=tf.resource, name=None)\n"
     ]
    },
    {
     "name": "stderr",
     "output_type": "stream",
     "text": [
      "WARNING: All log messages before absl::InitializeLog() is called are written to STDERR\n",
      "W0000 00:00:1734077478.550697  250179 tf_tfl_flatbuffer_helpers.cc:392] Ignored output_format.\n",
      "W0000 00:00:1734077478.551028  250179 tf_tfl_flatbuffer_helpers.cc:395] Ignored drop_control_dependency.\n",
      "2024-12-13 08:11:18.554296: I tensorflow/cc/saved_model/reader.cc:83] Reading SavedModel from: /tmp/tmpkyzgflbh\n",
      "2024-12-13 08:11:18.557053: I tensorflow/cc/saved_model/reader.cc:52] Reading meta graph with tags { serve }\n",
      "2024-12-13 08:11:18.557113: I tensorflow/cc/saved_model/reader.cc:147] Reading SavedModel debug info (if present) from: /tmp/tmpkyzgflbh\n",
      "2024-12-13 08:11:18.569475: I tensorflow/compiler/mlir/mlir_graph_optimization_pass.cc:388] MLIR V1 optimization pass is not enabled\n",
      "2024-12-13 08:11:18.571177: I tensorflow/cc/saved_model/loader.cc:236] Restoring SavedModel bundle.\n",
      "2024-12-13 08:11:18.852262: I tensorflow/cc/saved_model/loader.cc:220] Running initialization op on SavedModel bundle at path: /tmp/tmpkyzgflbh\n",
      "2024-12-13 08:11:18.875467: I tensorflow/cc/saved_model/loader.cc:462] SavedModel load for tags { serve }; Status: success: OK. Took 321221 microseconds.\n",
      "2024-12-13 08:11:18.925689: I tensorflow/compiler/mlir/tensorflow/utils/dump_mlir_util.cc:268] disabling MLIR crash reproducer, set env var `MLIR_CRASH_REPRODUCER_DIRECTORY` to enable.\n"
     ]
    }
   ],
   "source": [
    "model = keras.models.load_model('model_2024_hairstyle.keras')\n",
    "converter = tf.lite.TFLiteConverter.from_keras_model(model)\n",
    "# Convert to TFLite format\n",
    "tflite_model = converter.convert()\n",
    "\n",
    "# Save the TFLite model\n",
    "with open('model_2024_hairstyle.tflite', 'wb') as f_out:\n",
    "    f_out.write(tflite_model)\n"
   ]
  },
  {
   "cell_type": "code",
   "execution_count": 5,
   "metadata": {},
   "outputs": [
    {
     "name": "stdout",
     "output_type": "stream",
     "text": [
      "Input details:\n",
      "[{'name': 'serving_default_input_layer:0', 'index': 0, 'shape': array([  1, 200, 200,   3], dtype=int32), 'shape_signature': array([ -1, 200, 200,   3], dtype=int32), 'dtype': <class 'numpy.float32'>, 'quantization': (0.0, 0), 'quantization_parameters': {'scales': array([], dtype=float32), 'zero_points': array([], dtype=int32), 'quantized_dimension': 0}, 'sparsity_parameters': {}}]\n",
      "\n",
      "Output details:\n",
      "[{'name': 'StatefulPartitionedCall_1:0', 'index': 13, 'shape': array([1, 1], dtype=int32), 'shape_signature': array([-1,  1], dtype=int32), 'dtype': <class 'numpy.float32'>, 'quantization': (0.0, 0), 'quantization_parameters': {'scales': array([], dtype=float32), 'zero_points': array([], dtype=int32), 'quantized_dimension': 0}, 'sparsity_parameters': {}}]\n"
     ]
    },
    {
     "name": "stderr",
     "output_type": "stream",
     "text": [
      "INFO: Created TensorFlow Lite XNNPACK delegate for CPU.\n"
     ]
    }
   ],
   "source": [
    "interpreter = tf.lite.Interpreter(model_path='model_2024_hairstyle.tflite')\n",
    "interpreter.allocate_tensors()\n",
    "\n",
    "input_details = interpreter.get_input_details()\n",
    "output_details = interpreter.get_output_details()\n",
    "\n",
    "print(input_details)\n",
    "print(output_details)\n"
   ]
  },
  {
   "cell_type": "code",
   "execution_count": 6,
   "metadata": {},
   "outputs": [
    {
     "name": "stdout",
     "output_type": "stream",
     "text": [
      "Requirement already satisfied: pillow in /home/mike/Developer/ml-engineer-zoomcamp/.venv/lib/python3.10/site-packages (10.4.0)\n",
      "\n",
      "\u001b[1m[\u001b[0m\u001b[34;49mnotice\u001b[0m\u001b[1;39;49m]\u001b[0m\u001b[39;49m A new release of pip is available: \u001b[0m\u001b[31;49m24.2\u001b[0m\u001b[39;49m -> \u001b[0m\u001b[32;49m24.3.1\u001b[0m\n",
      "\u001b[1m[\u001b[0m\u001b[34;49mnotice\u001b[0m\u001b[1;39;49m]\u001b[0m\u001b[39;49m To update, run: \u001b[0m\u001b[32;49mpip install --upgrade pip\u001b[0m\n"
     ]
    }
   ],
   "source": [
    "!pip install pillow"
   ]
  },
  {
   "cell_type": "code",
   "execution_count": 11,
   "metadata": {},
   "outputs": [],
   "source": [
    "from io import BytesIO\n",
    "from urllib import request\n",
    "\n",
    "from PIL import Image\n",
    "\n",
    "def download_image(url):\n",
    "    with request.urlopen(url) as resp:\n",
    "        buffer = resp.read()\n",
    "    stream = BytesIO(buffer)\n",
    "    img = Image.open(stream)\n",
    "    return img\n",
    "\n",
    "def prepare_image(img, target_size):\n",
    "    if img.mode != 'RGB':\n",
    "        img = img.convert('RGB')\n",
    "    img = img.resize(target_size, Image.NEAREST)\n",
    "    return img\n",
    "\n",
    "url = 'https://habrastorage.org/webt/yf/_d/ok/yf_dokzqy3vcritme8ggnzqlvwa.jpeg'\n",
    "img = download_image(url)\n",
    "img = prepare_image(img, (200, 200))  # Changed from 160x160 to 200x200 to match model input dimensions\n",
    "\n",
    "img.save('test.jpg')"
   ]
  },
  {
   "cell_type": "code",
   "execution_count": 12,
   "metadata": {},
   "outputs": [
    {
     "name": "stdout",
     "output_type": "stream",
     "text": [
      "0.23921569\n"
     ]
    }
   ],
   "source": [
    "x = np.array(img, dtype='float32')\n",
    "\n",
    "x = x / 255.0\n",
    "\n",
    "X = np.array([x])\n",
    "\n",
    "print(X[0,0,0,0])\n"
   ]
  },
  {
   "cell_type": "code",
   "execution_count": 13,
   "metadata": {},
   "outputs": [
    {
     "name": "stdout",
     "output_type": "stream",
     "text": [
      "0.8937741\n"
     ]
    }
   ],
   "source": [
    "interpreter.set_tensor(input_details[0]['index'], X)\n",
    "interpreter.invoke()\n",
    "output = interpreter.get_tensor(output_details[0]['index'])\n",
    "\n",
    "print(output[0][0])\n"
   ]
  }
 ],
 "metadata": {
  "kernelspec": {
   "display_name": ".venv",
   "language": "python",
   "name": "python3"
  },
  "language_info": {
   "codemirror_mode": {
    "name": "ipython",
    "version": 3
   },
   "file_extension": ".py",
   "mimetype": "text/x-python",
   "name": "python",
   "nbconvert_exporter": "python",
   "pygments_lexer": "ipython3",
   "version": "3.10.12"
  }
 },
 "nbformat": 4,
 "nbformat_minor": 2
}
