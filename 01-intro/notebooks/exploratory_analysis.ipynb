{
 "cells": [
  {
   "cell_type": "code",
   "execution_count": 2,
   "metadata": {},
   "outputs": [],
   "source": [
    "import pandas as pd\n",
    "import numpy as np"
   ]
  },
  {
   "cell_type": "code",
   "execution_count": 9,
   "metadata": {},
   "outputs": [
    {
     "data": {
      "text/plain": [
       "'2.2.2'"
      ]
     },
     "execution_count": 9,
     "metadata": {},
     "output_type": "execute_result"
    }
   ],
   "source": [
    "pd.__version__"
   ]
  },
  {
   "cell_type": "code",
   "execution_count": 3,
   "metadata": {},
   "outputs": [],
   "source": [
    "df = pd.read_csv('/home/mike/Developer/ml-engineer-zoomcamp/01-intro/data/laptops.csv')"
   ]
  },
  {
   "cell_type": "code",
   "execution_count": 10,
   "metadata": {},
   "outputs": [
    {
     "name": "stdout",
     "output_type": "stream",
     "text": [
      "<class 'pandas.core.frame.DataFrame'>\n",
      "RangeIndex: 2160 entries, 0 to 2159\n",
      "Data columns (total 12 columns):\n",
      " #   Column        Non-Null Count  Dtype  \n",
      "---  ------        --------------  -----  \n",
      " 0   Laptop        2160 non-null   object \n",
      " 1   Status        2160 non-null   object \n",
      " 2   Brand         2160 non-null   object \n",
      " 3   Model         2160 non-null   object \n",
      " 4   CPU           2160 non-null   object \n",
      " 5   RAM           2160 non-null   int64  \n",
      " 6   Storage       2160 non-null   int64  \n",
      " 7   Storage type  2118 non-null   object \n",
      " 8   GPU           789 non-null    object \n",
      " 9   Screen        2156 non-null   float64\n",
      " 10  Touch         2160 non-null   object \n",
      " 11  Final Price   2160 non-null   float64\n",
      "dtypes: float64(2), int64(2), object(8)\n",
      "memory usage: 202.6+ KB\n",
      "None\n"
     ]
    }
   ],
   "source": [
    "print(df.info())"
   ]
  },
  {
   "cell_type": "code",
   "execution_count": 16,
   "metadata": {},
   "outputs": [
    {
     "name": "stdout",
     "output_type": "stream",
     "text": [
      "Brand\n",
      "Asus                415\n",
      "HP                  368\n",
      "Lenovo              366\n",
      "MSI                 308\n",
      "Acer                137\n",
      "Apple               116\n",
      "Dell                 84\n",
      "Microsoft            77\n",
      "Gigabyte             48\n",
      "Razer                37\n",
      "Medion               32\n",
      "LG                   32\n",
      "Alurin               29\n",
      "PcCom                24\n",
      "Samsung              22\n",
      "Dynabook Toshiba     19\n",
      "Vant                 11\n",
      "Deep Gaming           8\n",
      "Primux                8\n",
      "Innjoo                6\n",
      "Thomson               4\n",
      "Prixton               3\n",
      "Millenium             2\n",
      "Denver                1\n",
      "Jetwing               1\n",
      "Realme                1\n",
      "Toshiba               1\n",
      "Name: count, dtype: int64\n",
      "27\n"
     ]
    }
   ],
   "source": [
    "print(df['Brand'].value_counts())\n",
    "print(df['Brand'].nunique())"
   ]
  },
  {
   "cell_type": "code",
   "execution_count": 4,
   "metadata": {},
   "outputs": [
    {
     "name": "stdout",
     "output_type": "stream",
     "text": [
      "                                              Laptop Status   Brand  \\\n",
      "0  ASUS ExpertBook B1 B1502CBA-EJ0436X Intel Core...    New    Asus   \n",
      "1  Alurin Go Start Intel Celeron N4020/8GB/256GB ...    New  Alurin   \n",
      "2  ASUS ExpertBook B1 B1502CBA-EJ0424X Intel Core...    New    Asus   \n",
      "3  MSI Katana GF66 12UC-082XES Intel Core i7-1270...    New     MSI   \n",
      "4  HP 15S-FQ5085NS Intel Core i5-1235U/16GB/512GB...    New      HP   \n",
      "\n",
      "        Model            CPU  RAM  Storage Storage type       GPU  Screen  \\\n",
      "0  ExpertBook  Intel Core i5    8      512          SSD       NaN    15.6   \n",
      "1          Go  Intel Celeron    8      256          SSD       NaN    15.6   \n",
      "2  ExpertBook  Intel Core i3    8      256          SSD       NaN    15.6   \n",
      "3      Katana  Intel Core i7   16     1000          SSD  RTX 3050    15.6   \n",
      "4         15S  Intel Core i5   16      512          SSD       NaN    15.6   \n",
      "\n",
      "  Touch  Final Price  \n",
      "0    No      1009.00  \n",
      "1    No       299.00  \n",
      "2    No       789.00  \n",
      "3    No      1199.00  \n",
      "4    No       669.01  \n"
     ]
    }
   ],
   "source": [
    "print(df.head())"
   ]
  },
  {
   "cell_type": "code",
   "execution_count": 17,
   "metadata": {},
   "outputs": [
    {
     "name": "stdout",
     "output_type": "stream",
     "text": [
      "Laptop             0\n",
      "Status             0\n",
      "Brand              0\n",
      "Model              0\n",
      "CPU                0\n",
      "RAM                0\n",
      "Storage            0\n",
      "Storage type      42\n",
      "GPU             1371\n",
      "Screen             4\n",
      "Touch              0\n",
      "Final Price        0\n",
      "dtype: int64\n"
     ]
    }
   ],
   "source": [
    "print(df.isnull().sum())"
   ]
  },
  {
   "cell_type": "code",
   "execution_count": 24,
   "metadata": {},
   "outputs": [
    {
     "name": "stdout",
     "output_type": "stream",
     "text": [
      "3936.0\n",
      "15.6\n"
     ]
    }
   ],
   "source": [
    "# print max price for dell\n",
    "print(df[df['Brand'] == 'Dell']['Final Price'].max())\n",
    "print(df['Screen'].median())"
   ]
  },
  {
   "cell_type": "code",
   "execution_count": 26,
   "metadata": {},
   "outputs": [
    {
     "name": "stdout",
     "output_type": "stream",
     "text": [
      "15.6\n"
     ]
    }
   ],
   "source": [
    "df['Screen'] = df['Screen'].fillna(df['Screen'].mode()[0])\n",
    "print(df['Screen'].median())"
   ]
  },
  {
   "cell_type": "code",
   "execution_count": 5,
   "metadata": {},
   "outputs": [
    {
     "name": "stdout",
     "output_type": "stream",
     "text": [
      "[[1.28196e+03 1.73952e+04 5.59800e+02]\n",
      " [1.73952e+04 3.68640e+05 8.32000e+03]\n",
      " [5.59800e+02 8.32000e+03 2.52000e+02]]\n"
     ]
    }
   ],
   "source": [
    "innjoo_df = df[df['Brand'] == 'Innjoo']\n",
    "X = innjoo_df[['Screen', 'Storage', 'RAM']].to_numpy()\n",
    "XTX = X.T.dot(X)\n",
    "print(XTX)\n"
   ]
  },
  {
   "cell_type": "code",
   "execution_count": 6,
   "metadata": {},
   "outputs": [],
   "source": [
    "y = np.array([1100, 1300, 800, 900, 1000, 1100])"
   ]
  },
  {
   "cell_type": "code",
   "execution_count": 7,
   "metadata": {},
   "outputs": [],
   "source": [
    "w = np.linalg.inv(XTX).dot(X.T).dot(y)"
   ]
  },
  {
   "cell_type": "code",
   "execution_count": 8,
   "metadata": {},
   "outputs": [
    {
     "name": "stdout",
     "output_type": "stream",
     "text": [
      "[45.29127938  0.42783519 45.58076606]\n",
      "91.29988062995574\n"
     ]
    }
   ],
   "source": [
    "print(w)\n",
    "print(w.sum())"
   ]
  },
  {
   "cell_type": "code",
   "execution_count": null,
   "metadata": {},
   "outputs": [],
   "source": []
  }
 ],
 "metadata": {
  "kernelspec": {
   "display_name": ".venv",
   "language": "python",
   "name": "python3"
  },
  "language_info": {
   "codemirror_mode": {
    "name": "ipython",
    "version": 3
   },
   "file_extension": ".py",
   "mimetype": "text/x-python",
   "name": "python",
   "nbconvert_exporter": "python",
   "pygments_lexer": "ipython3",
   "version": "3.10.12"
  }
 },
 "nbformat": 4,
 "nbformat_minor": 2
}
